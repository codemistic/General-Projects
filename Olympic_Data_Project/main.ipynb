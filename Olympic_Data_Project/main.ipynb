import pandas as pd
import numpy as np

#In how many cities Summer Olympics is held so far?

Cities =  pd.read_csv("summer.csv")#Grouping and perform count over each group
cities_num =  Cities.groupby('City')['City'].count()
#print(cities_num)
print(len(cities_num))

#Which sport is having most number of Gold Medals so far? (Top 5)

df = pd.read_csv("summer.csv")
#df.groupby('Sport')['Medal'].count()
Medal_Types = df.groupby(['Country', 'Medal'])['Medal'].count()
Medal_Types = Medal_Types.unstack(level = -1)
Sports_Medals = df.groupby(['Sport', 'Medal'])['Medal'].count()
Sports_Medals = Sports_Medals.unstack(level = -1)
pd.DataFrame(Medal_Types)
Sports_Medals = Sports_Medals.reset_index(drop=False)
Sports_Medals = Sports_Medals.sort_values(by = ['Gold'], ascending = False)
Sports_Medals = Sports_Medals.head(20)
Sports_Medals.head(5)


#Which sport is having most number of medals so far? (Top 5)


df = pd.read_csv("summer.csv")
#df.groupby('Sport')['Medal'].count()
Medal_Types = df.groupby(['Country', 'Medal'])['Medal'].count()
Medal_Types = Medal_Types.unstack(level = -1)
Sports_Medals = df.groupby(['Sport', 'Medal'])['Medal'].count()
Sports_Medals = Sports_Medals.unstack(level = -1)
pd.DataFrame(Medal_Types)
Sports_Medals = Sports_Medals.reset_index(drop=False)
Sports_Medals = Sports_Medals.sort_values(by = ['Gold'], ascending = False)
Sports_Medals = Sports_Medals.head(20)
Sports_Medals.head(5)

#Which player has won most number of medals? (Top 5)

df = pd.read_csv("summer.csv")
#df.groupby('Sport')['Medal'].count()
Medal_Types = df.groupby(['Athlete', 'Medal'])['Medal'].count()
Medal_Types = Medal_Types.unstack(level = -1)
Sports_Medals = df.groupby(['Athlete', 'Medal'])['Medal'].count()
Sports_Medals = Sports_Medals.unstack(level = -1)
pd.DataFrame(Medal_Types)
Sports_Medals = Sports_Medals.reset_index(drop=False)
Sports_Medals = Sports_Medals.sort_values(by = ['Gold'], ascending = False)
Sports_Medals = Sports_Medals.head(20)
Sports_Medals.head(5)


#In which year India won first Gold Medal in Summer Olympics?

df = pd.read_csv("summer.csv")
#df.groupby('Sport')['Medal'].count()
Medal_Types = df.groupby(['Year', 'Medal'])['Medal'].count()
Medal_Types = Medal_Types.unstack(level = -1)
Sports_Medals = df.groupby(['Athlete', 'Medal'])['Medal'].count()
Sports_Medals = Sports_Medals.unstack(level = -1)
pd.DataFrame(Medal_Types)
Sports_Medals = Sports_Medals.reset_index(drop=False)
#Sports_Medals = Sports_Medals.sort_values(by = ['Gold'], ascending = True)
Sports_Medals = Sports_Medals.head(20)
Sports_Medals.head(5)

#Which event is most popular in terms on number of players? (Top 5)

players = pd.DataFrame(df.groupby('Event')['Athlete'].count().reset_index(name = 'Count'))
players.max()
